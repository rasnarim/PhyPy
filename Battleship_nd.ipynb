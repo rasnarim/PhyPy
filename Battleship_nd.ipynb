{
 "cells": [
  {
   "cell_type": "code",
   "execution_count": null,
   "id": "556fd655-5337-42f5-942a-83b030ab3662",
   "metadata": {},
   "outputs": [
    {
     "name": "stdout",
     "output_type": "stream",
     "text": [
      "Starting position: [0, 0, 1]\n"
     ]
    },
    {
     "name": "stdin",
     "output_type": "stream",
     "text": [
      "Enter the coordinates you want to hit in 3D (space-separated):  0 0 0 \n"
     ]
    },
    {
     "name": "stdout",
     "output_type": "stream",
     "text": [
      "Miss!\n",
      "Your current position after the move: [0, 0, 0]\n",
      "Hint: Move by displacement vector: [0 2 0]\n"
     ]
    },
    {
     "name": "stdin",
     "output_type": "stream",
     "text": [
      "Enter the coordinates you want to hit in 3D (space-separated):  1 0 1 \n"
     ]
    },
    {
     "name": "stdout",
     "output_type": "stream",
     "text": [
      "Miss!\n",
      "Your current position after the move: [1, 0, 1]\n",
      "Hint: Move by displacement vector: [ 1  0 -1]\n"
     ]
    },
    {
     "name": "stdin",
     "output_type": "stream",
     "text": [
      "Enter the coordinates you want to hit in 3D (space-separated):  2 0 0\n"
     ]
    },
    {
     "name": "stdout",
     "output_type": "stream",
     "text": [
      "Hit!\n",
      "Your current position after the move: [2, 0, 0]\n",
      "Hint: Move by displacement vector: [-2  2  0]\n"
     ]
    },
    {
     "name": "stdin",
     "output_type": "stream",
     "text": [
      "Enter the coordinates you want to hit in 3D (space-separated):  0 2 0\n"
     ]
    },
    {
     "name": "stdout",
     "output_type": "stream",
     "text": [
      "Hit!\n",
      "Your current position after the move: [0, 2, 0]\n",
      "Hint: Move by displacement vector: [0 2 4]\n"
     ]
    }
   ],
   "source": [
    "import numpy as np\n",
    "\n",
    "# Initialize the grid (sea) in n-dimensions\n",
    "def initialize_sea(grid_size, dimensions):\n",
    "    return np.zeros(tuple([grid_size] * dimensions), dtype=int)\n",
    "\n",
    "# Function to randomly place ships on the grid\n",
    "def place_ships(sea, num_ships):\n",
    "    placed_ships = 0\n",
    "    while placed_ships < num_ships:\n",
    "        position = tuple(np.random.randint(0, sea.shape[0], size=len(sea.shape)))\n",
    "        if sea[position] == 0:  # Check if the cell is empty\n",
    "            sea[position] = 1  # Place a ship\n",
    "            placed_ships += 1\n",
    "\n",
    "# Display the grid (simplified for higher dimensions)\n",
    "def display_grid(sea):\n",
    "    print(sea)\n",
    "\n",
    "# Check if a move is a hit or miss\n",
    "def check_hit(sea, position):\n",
    "    if sea[position] == 1:\n",
    "        sea[position] = 2  # Mark as hit\n",
    "        return True\n",
    "    elif sea[position] == 0:\n",
    "        sea[position] = -1  # Mark as miss\n",
    "        return False\n",
    "    else:\n",
    "        return None  # Already targeted\n",
    "\n",
    "# Calculate displacement vector to the closest ship\n",
    "def calculate_displacement_vector(current_position, closest_ship_position):\n",
    "    displacement = np.array(closest_ship_position) - np.array(current_position)\n",
    "    return displacement\n",
    "\n",
    "# Find the closest ship\n",
    "def find_closest_ship(sea, current_position):\n",
    "    ship_positions = np.argwhere(sea == 1)\n",
    "    distances = np.linalg.norm(ship_positions - current_position, axis=1)\n",
    "    closest_ship_index = np.argmin(distances)\n",
    "    return ship_positions[closest_ship_index]\n",
    "\n",
    "# Function to play the game\n",
    "def play_game(sea, dimensions):\n",
    "    current_position = np.random.randint(0, sea.shape[0], size=dimensions).tolist()\n",
    "    print(f\"Starting position: {current_position}\")\n",
    "\n",
    "    while np.sum(sea == 1) > 0:  # Continue until all ships are hit\n",
    "        # display_grid(sea)  # Show the grid to the player\n",
    "\n",
    "        while True:\n",
    "            try:\n",
    "                # Request input and attempt to parse it into the required number of integers\n",
    "                move = input(f\"Enter the coordinates you want to hit in {dimensions}D (space-separated): \")\n",
    "                current_position = list(map(int, move.split()))\n",
    "                \n",
    "                if all(0 <= current_position[i] < sea.shape[0] for i in range(dimensions)):\n",
    "                    break  # Valid input; exit the loop\n",
    "                else:\n",
    "                    print(f\"Coordinates must be between 0 and {sea.shape[0] - 1} in each dimension. Please try again.\")\n",
    "            except ValueError:\n",
    "                print(f\"Invalid input. Please enter {dimensions} integers separated by spaces.\")\n",
    "\n",
    "        # Check for a hit\n",
    "        position_tuple = tuple(current_position)\n",
    "        hit = check_hit(sea, position_tuple)\n",
    "        if hit:\n",
    "            print(\"Hit!\")\n",
    "        else:\n",
    "            print(\"Miss!\")\n",
    "\n",
    "        # Update the position regardless of hit or miss\n",
    "        print(f\"Your current position after the move: {current_position}\")\n",
    "\n",
    "        # Find the closest remaining ship and provide the displacement vector\n",
    "        if np.sum(sea == 1) > 0:  # Only provide a hint if there are ships left\n",
    "            closest_ship_position = find_closest_ship(sea, current_position)\n",
    "            displacement_vector = calculate_displacement_vector(current_position, closest_ship_position)\n",
    "            print(f\"Hint: Move by displacement vector: {displacement_vector}\")\n",
    "\n",
    "# Game parameters\n",
    "dimensions = 3  # Change this value for different dimensions (e.g., 2 for 2D, 3 for 3D)\n",
    "grid_size = 5\n",
    "num_ships = 3\n",
    "\n",
    "# Initialize and start the game\n",
    "sea = initialize_sea(grid_size, dimensions)\n",
    "place_ships(sea, num_ships)\n",
    "play_game(sea, dimensions)\n"
   ]
  },
  {
   "cell_type": "code",
   "execution_count": null,
   "id": "05a41fad-c499-4a15-bc57-3d5915a8e0fd",
   "metadata": {},
   "outputs": [],
   "source": []
  }
 ],
 "metadata": {
  "kernelspec": {
   "display_name": "Python 3 (ipykernel)",
   "language": "python",
   "name": "python3"
  },
  "language_info": {
   "codemirror_mode": {
    "name": "ipython",
    "version": 3
   },
   "file_extension": ".py",
   "mimetype": "text/x-python",
   "name": "python",
   "nbconvert_exporter": "python",
   "pygments_lexer": "ipython3",
   "version": "3.11.9"
  }
 },
 "nbformat": 4,
 "nbformat_minor": 5
}
