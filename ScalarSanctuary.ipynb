{
 "cells": [
  {
   "cell_type": "markdown",
   "id": "e3892341-3662-4b17-9446-464f7c3c45f6",
   "metadata": {},
   "source": [
    "# 🌟 Welcome to ScalerSanctuary: Exploring Scalars in Physics with Python\n",
    "\n",
    "## Introduction\n",
    "\n",
    "Welcome to **ScalerSanctuary**! In this notebook, we will embark on a journey to explore the fascinating world of scalars in physics through the lens of Python programming. Whether you are new to Python or seeking to deepen your understanding of fundamental physics concepts, this notebook is designed with you in mind. \n",
    "\n",
    "### What are Scalars? 🔍\n",
    "\n",
    "In physics, a scalar is a quantity that is fully described by a single number (a magnitude) and is independent of direction. Unlike vectors, which have both magnitude and direction, scalars are simpler to deal with yet essential in describing many physical phenomena. Common examples of scalars include:\n",
    "\n",
    "- 🌡️ **Temperature:** The degree of hotness or coldness of an object, measured in degrees Celsius (°C), Fahrenheit (°F), or Kelvin (K).\n",
    "- 📏 **Height:** The measure of an object from base to top, typically in meters or feet.\n",
    "- 🕰️ **Time:** The ongoing progression of events from the past through the present to the future, measured in seconds, minutes, or hours.\n",
    "- ⚖️ **Mass:** The amount of matter in an object, measured in kilograms (kg) or grams (g).\n",
    "- 📦 **Volume:** The amount of space occupied by an object, typically in liters (L) or cubic meters (m³).\n",
    "\n",
    "### Why Learn Scalars with Python? 🤖\n",
    "\n",
    "Python is a powerful and versatile programming language that is widely used in scientific computing. By combining Python with the study of scalars, you'll not only reinforce your understanding of physics but also gain valuable programming skills that are applicable across a wide range of fields.\n",
    "\n",
    "In this notebook, you will:\n",
    "\n",
    "1. **Understand Scalars:** Learn the fundamental concept of scalars through engaging real-world examples.\n",
    "2. **Perform Operations:** Master basic arithmetic operations with scalars using Python.\n",
    "3. **Explore Time:** Delve into time as a crucial scalar in physics and discover how to model changes over time.\n",
    "4. **Visualize Data:** Use Python's powerful libraries to visualize scalar quantities, making abstract concepts more tangible.\n",
    "\n",
    "So, let's dive in! 🚀\n",
    "\n"
   ]
  },
  {
   "cell_type": "markdown",
   "id": "bf392c0c-a0a3-4c6b-af63-24bd9f689cea",
   "metadata": {},
   "source": [
    "### Python Representation of Scalars\n",
    "\n",
    "In Python, scalars can be represented using simple variables. Let's explore some examples:\n",
    "\n"
   ]
  },
  {
   "cell_type": "code",
   "execution_count": 4,
   "id": "47e3d97a-02f6-47e0-b1fd-2823750d5d2a",
   "metadata": {},
   "outputs": [
    {
     "name": "stdout",
     "output_type": "stream",
     "text": [
      "Height: 1.75 meters\n",
      "Temperature: 298.15 Kelvin\n",
      "Pressure: 101325 Pascals\n",
      "Volume: 0.05 cubic meters\n",
      "Time: 60 seconds\n"
     ]
    }
   ],
   "source": [
    "# Example scalars\n",
    "height = 1.75  # in meters\n",
    "temperature = 298.15  # in Kelvin\n",
    "pressure = 101325  # in Pascals\n",
    "volume = 0.05  # in cubic meters\n",
    "time = 60  # in seconds\n",
    "\n",
    "print(f\"Height: {height} meters\")\n",
    "print(f\"Temperature: {temperature} Kelvin\")\n",
    "print(f\"Pressure: {pressure} Pascals\")\n",
    "print(f\"Volume: {volume} cubic meters\")\n",
    "print(f\"Time: {time} seconds\")"
   ]
  },
  {
   "cell_type": "markdown",
   "id": "58b260ff-360f-47e4-a9fd-3691b1c72fb6",
   "metadata": {},
   "source": [
    "### 🔢 Arithmetic Operations with Scalars\n",
    "Scalars can be manipulated through basic arithmetic operations. Let's learn how to do this with Python. 🐍\n",
    "\n",
    "#### ➕➖ Adding and Subtracting Scalars\n"
   ]
  },
  {
   "cell_type": "code",
   "execution_count": 5,
   "id": "6ae48e7a-54e6-464c-9976-ff6cdf06cf84",
   "metadata": {},
   "outputs": [
    {
     "name": "stdout",
     "output_type": "stream",
     "text": [
      "Total Height: 3.55 meters\n",
      "Temperature Difference: 25.0 Kelvin\n"
     ]
    }
   ],
   "source": [
    "# Adding two scalars\n",
    "height_1 = 1.75\n",
    "height_2 = 1.80\n",
    "total_height = height_1 + height_2\n",
    "print(f\"Total Height: {total_height} meters\")\n",
    "\n",
    "# Subtracting two scalars\n",
    "temperature_1 = 298.15\n",
    "temperature_2 = 273.15\n",
    "temperature_difference = temperature_1 - temperature_2\n",
    "print(f\"Temperature Difference: {temperature_difference} Kelvin\")\n"
   ]
  },
  {
   "cell_type": "markdown",
   "id": "043aef5f-bfbc-4dce-95bd-6d3b7858a9a4",
   "metadata": {},
   "source": [
    "#### ✖️➗ Multiplying and Dividing Scalars"
   ]
  },
  {
   "cell_type": "code",
   "execution_count": 6,
   "id": "82401252-9c7e-4028-b1c9-c782a36d682c",
   "metadata": {},
   "outputs": [
    {
     "name": "stdout",
     "output_type": "stream",
     "text": [
      "Doubled Pressure: 202650 Pascals\n",
      "Halved Volume: 0.025 cubic meters\n"
     ]
    }
   ],
   "source": [
    "# Multiplying a scalar by a number\n",
    "pressure = 101325  # in Pascals\n",
    "factor = 2\n",
    "doubled_pressure = pressure * factor\n",
    "print(f\"Doubled Pressure: {doubled_pressure} Pascals\")\n",
    "\n",
    "# Dividing a scalar by a number\n",
    "volume = 0.05  # in cubic meters\n",
    "halved_volume = volume / 2\n",
    "print(f\"Halved Volume: {halved_volume} cubic meters\")\n"
   ]
  },
  {
   "cell_type": "markdown",
   "id": "48d9b4d4-58db-4bbd-bc07-863f454b9dbd",
   "metadata": {},
   "source": [
    "### 🎯 Mastering Unit Conversion for Scalars\n",
    "\n",
    "#### 🌟 Introduction\n",
    "\n",
    "In physics, understanding and applying the correct units to measurements is crucial. Scalars, which are quantities that only have magnitude (and no direction), often require unit conversions to compare measurements or perform calculations correctly. This section will help you master the art of unit conversion for scalar quantities.\n",
    "\n",
    "#### 📏 Unit Conversion Basics\n",
    "\n",
    "When working with physical quantities, it's common to encounter different units for the same type of measurement (e.g., meters and centimeters for length, or seconds and minutes for time). Converting between these units involves multiplying by conversion factors that relate the two units.\n",
    "\n",
    "For example, to convert a length from centimeters to meters, you use the fact that:\n",
    "\n",
    "`1 meter = 100 centimeters`\n",
    "\n",
    "Therefore, to convert 250 cm to meters:\n",
    "\n",
    "$\n",
    "250 \\, \\text{cm} \\times \\frac{1 \\, \\text{m}}{100 \\, \\text{cm}} = 2.5 \\, \\text{m}\n",
    "$\n",
    "\n",
    "#### 📚 Common Scalar Quantities and Their Units\n",
    "\n",
    "Let's look at some common scalar quantities and their associated units:\n",
    "\n",
    "- **Length:** meters (m), centimeters (cm), millimeters (mm), kilometers (km)\n",
    "- **Mass:** kilograms (kg), grams (g), milligrams (mg)\n",
    "- **Time:** seconds (s), minutes (min), hours (h)\n",
    "- **Temperature:** Celsius (°C), Fahrenheit (°F), Kelvin (K)\n",
    "\n",
    "#### ✏️ Example: Converting Units of Length\n",
    "\n",
    "Consider you have a distance of 5 kilometers and you want to convert it to meters:\n",
    "\n",
    "$\n",
    "5 \\, \\text{km} \\times \\frac{1000 \\, \\text{m}}{1 \\, \\text{km}} = 5000 \\, \\text{m}\n",
    "$\n",
    "\n",
    "Similarly, you can convert meters to centimeters by multiplying by 100 (since 1 meter = 100 centimeters).\n",
    "\n",
    "```python\n",
    "# Example: Converting kilometers to meters and meters to centimeters\n",
    "\n",
    "distance_km = 5  # distance in kilometers\n",
    "distance_m = distance_km * 1000  # convert to meters\n",
    "distance_cm = distance_m * 100  # convert to centimeters\n",
    "\n",
    "print(f\"{distance_km} km is equivalent to {distance_m} meters or {distance_cm} centimeters.\")\n",
    "\n"
   ]
  },
  {
   "cell_type": "code",
   "execution_count": 8,
   "id": "f3dd4e8e-0700-470a-8353-337a090ad2b0",
   "metadata": {},
   "outputs": [
    {
     "name": "stdout",
     "output_type": "stream",
     "text": [
      "5 km is equivalent to 5000 meters or 500000 centimeters.\n"
     ]
    }
   ],
   "source": [
    "# Example: Converting kilometers to meters and meters to centimeters\n",
    "\n",
    "distance_km = 5  # distance in kilometers\n",
    "distance_m = distance_km * 1000  # convert to meters\n",
    "distance_cm = distance_m * 100  # convert to centimeters\n",
    "\n",
    "print(f\"{distance_km} km is equivalent to {distance_m} meters or {distance_cm} centimeters.\")"
   ]
  },
  {
   "cell_type": "markdown",
   "id": "2e9dfc70-c158-462d-a8fc-9c3438c552ac",
   "metadata": {},
   "source": [
    "### 📝 Introduction to Functions in Python\n",
    "\n",
    "Before we dive into more advanced unit conversions, let's learn how to create functions in Python. 🐍 A function is a reusable block of code that performs a specific task. We'll start by creating functions to convert between kilometers (km) and meters (m).\n",
    "\n",
    "#### ✨ Example: Converting Kilometers to Meters\n",
    "\n",
    "We know that:\n",
    "\n",
    "$\n",
    "1 \\, \\text{km} = 1000 \\, \\text{m}\n",
    "$\n",
    "\n",
    "Let's write a Python function that converts kilometers to meters:\n"
   ]
  },
  {
   "cell_type": "code",
   "execution_count": 2,
   "id": "b79ea83c-160f-408a-a3d6-8ad2e13a3fdc",
   "metadata": {},
   "outputs": [],
   "source": [
    "def km_to_m(kilometers):\n",
    "    \"\"\"Convert kilometers to meters.\"\"\"\n",
    "    meters = kilometers * 1000\n",
    "    return meters"
   ]
  },
  {
   "cell_type": "markdown",
   "id": "98479b24-83ff-4274-a342-e04c36b08463",
   "metadata": {},
   "source": [
    "You can use this function like this:"
   ]
  },
  {
   "cell_type": "code",
   "execution_count": 4,
   "id": "f3260817-4b34-4622-8f41-b37a0c18f00f",
   "metadata": {},
   "outputs": [
    {
     "name": "stdout",
     "output_type": "stream",
     "text": [
      "5 km is equivalent to 5000 meters.\n"
     ]
    }
   ],
   "source": [
    "# Convert 5 kilometers to meters\n",
    "distance_km = 5\n",
    "# let's call the function to covert Km to m:\n",
    "distance_m = km_to_m(distance_km)\n",
    "\n",
    "print(f\"{distance_km} km is equivalent to {distance_m} meters.\")\n"
   ]
  },
  {
   "cell_type": "markdown",
   "id": "fc85fe1f-dc20-4b7d-8c02-a1f095b50366",
   "metadata": {},
   "source": [
    "#### 🔄 Example: Converting Meters to Kilometers\n",
    "\n",
    "Now, let's create the inverse function to convert meters back to kilometers:\n",
    "\n",
    "$\n",
    "1 \\, \\text{m} = 0.001 \\, \\text{km}\n",
    "$\n"
   ]
  },
  {
   "cell_type": "code",
   "execution_count": 6,
   "id": "ea7d7e16-3f39-4dbd-836c-369fced05798",
   "metadata": {},
   "outputs": [],
   "source": [
    "def m_to_km(meters):\n",
    "    \"\"\"Convert meters to kilometers.\"\"\"\n",
    "    kilometers = meters / 1000\n",
    "    return kilometers\n"
   ]
  },
  {
   "cell_type": "code",
   "execution_count": 7,
   "id": "aca973ed-0e9b-49f8-bc52-0ddf6d871a1a",
   "metadata": {},
   "outputs": [
    {
     "name": "stdout",
     "output_type": "stream",
     "text": [
      "5000 meters is equivalent to 5.0 kilometers.\n"
     ]
    }
   ],
   "source": [
    "# Convert 5000 meters to kilometers\n",
    "distance_m = 5000\n",
    "# let's call the function to covert m to Km:\n",
    "distance_km = m_to_km(distance_m)\n",
    "print(f\"{distance_m} meters is equivalent to {distance_km} kilometers.\")\n"
   ]
  },
  {
   "cell_type": "markdown",
   "id": "36dcafe8-d5fc-47d8-aa4f-24bcec6ebd3f",
   "metadata": {},
   "source": [
    "### 🚀 Exercise: Advanced Unit Conversion Challenge\n",
    "\n",
    "Now that you've practiced some basic unit conversions, it's time to tackle a more complex one: converting temperatures from Celsius (°C) to Fahrenheit (°F).\n",
    "\n",
    "#### 📝 Task:\n",
    "\n",
    "1. **🔍 Research:** Use online resources to find the formula for converting temperatures from Celsius to Fahrenheit. You may also want to review how to reverse this conversion (from Fahrenheit to Celsius).\n",
    "\n",
    "2. **🌡️ Convert the following temperatures from Celsius to Fahrenheit:**\n",
    "    - **25°C**\n",
    "    - **-10°C**\n",
    "    - **37°C** (approximately human body temperature)\n",
    "    - **100°C** (the boiling point of water)\n",
    "\n",
    "3. **✏️ Write a Python function** that takes a temperature in Celsius and returns the equivalent temperature in Fahrenheit.\n",
    "\n",
    "4. **🧪 Test your function** by converting the temperatures listed above.\n",
    "\n",
    "#### 🎯 Bonus Challenge:\n",
    "\n",
    "- Write a reverse function that converts Fahrenheit to Celsius.\n",
    "- Test your reverse function by converting the results from your first function back to Celsius.\n",
    "\n",
    "#### 📌 Instructions:\n",
    "\n",
    "- Make sure your function handles both positive and negative temperatures.\n",
    "- Print your results in a clear and readable format.\n",
    "- If you’re unsure about the conversion formula, consult reliable educational websites, physics textbooks, or other credible sources.\n",
    "\n",
    "By completing this exercise, you'll not only learn about temperature conversions but also practice researching scientific formulas and implementing them in code. This is a valuable skill in both academic and professional settings.\n",
    "\n"
   ]
  },
  {
   "cell_type": "code",
   "execution_count": 9,
   "id": "2bde8c37-6717-4684-a298-3dabc6a7cc93",
   "metadata": {},
   "outputs": [],
   "source": [
    "# Task 1: Research and find the formula for converting Celsius to Fahrenheit\n",
    "# Hint: The formula is of the form: F = (C * 9/5) + 32\n",
    "\n",
    "def celsius_to_fahrenheit(celsius):\n",
    "    \"\"\"Convert Celsius to Fahrenheit.\"\"\"\n",
    "    # TODO: Implement the conversion formula here\n",
    "    fahrenheit = None  # Replace this with the correct calculation\n",
    "    return fahrenheit\n",
    "\n",
    "# Task 2: Research and find the formula for converting Fahrenheit to Celsius\n",
    "# Hint: The formula is of the form: C = (F - 32) * 5/9\n",
    "\n",
    "def fahrenheit_to_celsius(fahrenheit):\n",
    "    \"\"\"Convert Fahrenheit to Celsius.\"\"\"\n",
    "    # TODO: Implement the conversion formula here\n",
    "    celsius = None  # Replace this with the correct calculation\n",
    "    return celsius"
   ]
  },
  {
   "cell_type": "markdown",
   "id": "c8e34c24-9538-4376-9aa6-7433fb646677",
   "metadata": {},
   "source": [
    "### ⏳ Time: A Fundamental Scalar Quantity in Physics\n",
    "\n",
    "#### 🕒 Introduction to Time and Growth\n",
    "\n",
    "Time is one of the most fundamental quantities in physics, and it is a scalar quantity, meaning it has magnitude but no direction. In everyday life, time is essential for tracking changes, such as how a person's height increases as they grow. Understanding how time relates to these changes helps us measure and compare growth over different periods.\n",
    "\n",
    "#### 📈 Tracking Growth Over Time\n",
    "\n",
    "As a person grows, their height changes over time. For example, you might have noticed that a child's height increases significantly during their early years and then more slowly as they approach adulthood. By measuring height at different ages, we can track this growth.\n",
    "\n",
    "Let’s consider an example: Suppose we measure the height of a child at different ages:\n",
    "\n",
    "- **At birth:** 50 cm\n",
    "- **At 1 year:** 75 cm\n",
    "- **At 5 years:** 110 cm\n",
    "- **At 10 years:** 140 cm\n",
    "- **At 15 years:** 160 cm\n",
    "\n",
    "Here, time is measured in years, and the corresponding height is measured in centimeters.\n",
    "\n",
    "#### ⏱️ Importance of Time Intervals\n",
    "\n",
    "To understand how fast or slow growth happens, we often look at the change in height over specific time intervals. For example:\n",
    "\n",
    "- From birth to 1 year: the child grows 25 cm.\n",
    "- From 1 year to 5 years: the child grows 35 cm.\n",
    "- From 10 years to 15 years: the child grows 20 cm.\n",
    "\n",
    "These measurements allow us to compare how growth rate changes at different stages of development.\n",
    "\n",
    "#### 🧮 Exercise: Tracking Your Own Growth\n",
    "\n",
    "Now it's time for you to apply these concepts by looking at your own growth or imagining the growth of a hypothetical person.\n",
    "\n",
    "1. **📏 Record your height** at different ages (or use the hypothetical data provided above).\n",
    "2. **➗ Calculate the height change** between each time interval.\n",
    "\n",
    "For instance, if you have measurements at ages 5, 10, and 15, calculate the difference in height between these ages.\n",
    "\n",
    "#### 🧩 Example:\n",
    "\n",
    "Let's say you have the following data:\n",
    "\n",
    "- **At age 5:** 110 cm\n",
    "- **At age 10:** 135 cm\n",
    "- **At age 15:** 160 cm\n",
    "\n",
    "You can calculate the change in height between these intervals.\n",
    "\n"
   ]
  },
  {
   "cell_type": "code",
   "execution_count": 11,
   "id": "3f42ad7c-94b8-4013-b54e-138566d4b42c",
   "metadata": {},
   "outputs": [
    {
     "name": "stdout",
     "output_type": "stream",
     "text": [
      "Height change from age 5 to 10: 25 cm\n",
      "Height change from age 10 to 15: 25 cm\n"
     ]
    }
   ],
   "source": [
    "# Example data - Feel free to change the following values\n",
    "height_at_5 = 110  # in cm\n",
    "height_at_10 = 135  # in cm\n",
    "height_at_15 = 160  # in cm\n",
    "\n",
    "# Calculate the change in height\n",
    "height_change_5_to_10 = height_at_10 - height_at_5\n",
    "height_change_10_to_15 = height_at_15 - height_at_10\n",
    "\n",
    "print(f\"Height change from age 5 to 10: {height_change_5_to_10} cm\")\n",
    "print(f\"Height change from age 10 to 15: {height_change_10_to_15} cm\")"
   ]
  },
  {
   "cell_type": "markdown",
   "id": "8c2755c3-63d6-49cc-89e0-c9d5843ea890",
   "metadata": {},
   "source": [
    "### 📊 Visualizing Data: Plotting a Scalar as a Function of Time\n",
    "\n",
    "#### 🖼️ Introduction to Graphing Scalars Over Time\n",
    "\n",
    "When studying how a scalar quantity changes over time, a powerful way to understand and analyze the data is by visualizing it on a graph. Graphs allow us to see patterns, trends, and relationships more clearly than raw data alone. In physics, plotting a scalar quantity (like height, temperature, or distance) as a function of time helps us make sense of how that quantity evolves.\n",
    "\n",
    "#### 📈 Why Graphs Are Important\n",
    "\n",
    "Consider the example of tracking height as a person grows. When you have measurements of height at different ages, looking at the numbers alone might not reveal much about the growth pattern. However, by plotting these values on a graph, you can immediately see how the height changes over time.\n",
    "\n",
    "A graph allows you to:\n",
    "- **📊 Visualize growth patterns**: See at a glance when growth was fastest and when it slowed down.\n",
    "- **🔍 Identify trends**: Understand the general direction of change over time.\n",
    "- **🔄 Compare different periods**: Easily compare how much growth occurred in different time intervals.\n",
    "\n",
    "#### 🧩 Introduction to Matplotlib\n",
    "\n",
    "To create these graphs in Python, we use a powerful library called `matplotlib`. `matplotlib` is one of the most popular plotting libraries in Python and is known for its versatility and ease of use. It allows you to create a wide variety of static, animated, and interactive plots.\n",
    "\n",
    "**Key Features of Matplotlib:**\n",
    "- **📈 Line Plots**: Ideal for showing how a quantity changes over time, which is what we’ll focus on here.\n",
    "- **🎨 Customization**: You can customize almost every aspect of a plot, including colors, labels, and markers.\n",
    "- **🔗 Integration**: Works well with other Python libraries like `pandas` and `numpy` to handle and visualize data.\n",
    "\n",
    "Using `matplotlib`, we can easily create a graph that plots the height of a person as a function of their age. This will help us to visualize how their height changes over the years.\n",
    "\n",
    "#### 🖋️ Example: Plotting Height as a Function of Time\n",
    "\n",
    "Let's take the example of a person's height measured at different ages:\n",
    "\n",
    "- **At age 5:** 110 cm\n",
    "- **At age 10:** 135 cm\n",
    "- **At age 15:** 160 cm\n",
    "- **At age 20:** 165 cm\n",
    "- **At age 25:** 166 cm\n",
    "\n",
    "We can plot these values on a graph where the x-axis represents time (in years) and the y-axis represents height (in centimeters).\n",
    "\n",
    "Here's how we can do this using `matplotlib` in Python:\n",
    "\n",
    "\n"
   ]
  },
  {
   "cell_type": "code",
   "execution_count": 42,
   "id": "e373d9eb-d201-41d5-a805-51a5e116eeff",
   "metadata": {},
   "outputs": [
    {
     "data": {
      "image/png": "[encoded data removed]",
      "text/plain": [
       "<Figure size 800x600 with 1 Axes>"
      ]
     },
     "metadata": {},
     "output_type": "display_data"
    }
   ],
   "source": [
    "import matplotlib.pyplot as plt  # Importing the matplotlib library for plotting\n",
    "\n",
    "# Example data\n",
    "ages = [5, 10, 15, 20, 25]  # Age of the person in years\n",
    "heights = [110, 135, 160, 165, 166]  # Height of the person in centimeters\n",
    "\n",
    "# Plotting the graph\n",
    "plt.figure(figsize=(8, 6))  # Create a new figure with a specified size (8 inches by 6 inches)\n",
    "plt.plot(ages, heights, marker='o', linestyle='--', color='b')  \n",
    "# Plot the data: \n",
    "# - 'ages' is plotted on the x-axis (horizontal axis)\n",
    "# - 'heights' is plotted on the y-axis (vertical axis)\n",
    "# - 'marker'='o' adds a circular marker at each data point\n",
    "# - 'linestyle'='--' creates a solid line connecting the points\n",
    "# - 'color'='b' makes the line blue\n",
    "\n",
    "plt.title(\"Height as a Function of Time\")  # Set the title of the graph\n",
    "plt.xlabel(\"Age (years)\")  # Label the x-axis as 'Age (years)'\n",
    "plt.ylabel(\"Height (cm)\")  # Label the y-axis as 'Height (cm)'\n",
    "plt.grid(True)  # Add a grid to the background of the plot for better readability\n",
    "plt.show()  # Display the plot\n"
   ]
  },
  {
   "cell_type": "markdown",
   "id": "37de5a54-cca5-4b19-b9d1-57e387ef79c0",
   "metadata": {},
   "source": [
    "## ☕ Modeling Temperature Drop in Cooling Coffee\n",
    "### ❄️ Exercise: Simulating the Cooling of Coffee Over Time\n",
    "\n",
    "#### 🎯 Objective\n",
    "\n",
    "In this exercise, you will simulate how the temperature of a hot cup of coffee cools down over time when placed in a room. The cooling process will be modeled using **Newton's Law of Cooling**, which describes how the rate of heat loss of an object is proportional to the difference between its temperature and the ambient temperature. You will then visualize the temperature change with a plot to observe how the coffee cools.\n",
    "\n",
    "#### 🔬 Physics Explanation\n",
    "\n",
    "**Newton's Law of Cooling** states that the rate of change of the temperature $T(t)$ of an object (in this case, the coffee) is proportional to the difference between the object's temperature and the ambient temperature $T_{\\text{env}}$.\n",
    "\n",
    "The differential equation representing this process is:\n",
    "\n",
    "$$\n",
    "\\frac{\\Delta T}{\\Delta t} = -r (T(t) - T_{\\text{env}})\n",
    "$$\n",
    "\n",
    "Where:\n",
    "- $T(t)$ is the temperature of the coffee at time $t$,\n",
    "- $T_{\\text{env}}$ is the constant ambient (room) temperature,\n",
    "- $r$ is the cooling constant, which depends on factors like the type of material and surface area,\n",
    "- $\\frac{\\Delta T}{\\Delta t}$ represents the rate of change of the coffee temperature over time.\n",
    "\n",
    "Solving this differential equation gives the following exponential decay function:\n",
    "\n",
    "$$\n",
    "T(t) = T_{\\text{env}} + (T_0 - T_{\\text{env}}) e^{-r t}\n",
    "$$\n",
    "\n",
    "Where:\n",
    "- $T_0$ is the initial temperature of the coffee (90°C in our case),\n",
    "- $e$ is the base of the natural logarithm,\n",
    "- $r$ is the cooling rate,\n",
    "- $t$ is the elapsed time.\n",
    "\n",
    "This formula demonstrates that as time progresses, the temperature of the coffee asymptotically approaches the ambient temperature, highlighting the exponential nature of cooling.\n",
    "\n",
    "#### 🧩 Part 1: Cooling Model Simulation\n",
    "\n",
    "**Step 1:** Using Newton’s Law of Cooling\n",
    "\n",
    "We assume that the coffee cools according to Newton’s Law, with the coffee starting at 90°C and the room temperature being 22°C.\n",
    "\n",
    "**📝 Task:**\n",
    "\n",
    "1. Use `numpy` to generate time points for every minute over a 30-minute period.\n",
    "2. Simulate the temperature drop using a cooling rate of 3% per minute.\n",
    "3. Use the formula $T(t) = T_{\\text{env}} + (T_0 - T_{\\text{env}}) e^{-r t}$ to compute the temperature at each time step.\n",
    "4. Plot the results using `matplotlib` to visualize how the coffee cools over time.\n",
    "\n",
    "**💡 Questions to Consider:**\n",
    "\n",
    "- How does the temperature curve behave as the coffee approaches room temperature?\n",
    "- What factors could influence the cooling rate in a real-world scenario (e.g., the type of cup, air flow, or the initial temperature of the coffee)?\n"
   ]
  },
  {
   "cell_type": "code",
   "execution_count": 27,
   "id": "73d4ab77-8d2e-4768-8c74-3a9bea1a3b56",
   "metadata": {},
   "outputs": [
    {
     "data": {
      "image/png": "[encoded data removed]",
      "text/plain": [
       "<Figure size 640x480 with 1 Axes>"
      ]
     },
     "metadata": {},
     "output_type": "display_data"
    }
   ],
   "source": [
    "# import numpy as np\n",
    "# import matplotlib.pyplot as plt\n",
    "\n",
    "# Function to simulate cooling of coffee\n",
    "def cooling_model(T_init, T_env, r, dt, t_end):\n",
    "    times = np.arange(0, t_end + dt, dt)  # Create an array of time points\n",
    "    temperatures = np.zeros_like(times)  # Create an array to store temperatures\n",
    "    temperatures[0] = T_init  # Set the initial temperature\n",
    "    \n",
    "    for i in range(1, len(times)):\n",
    "        # Newton's Law of Cooling: Update temperature for each time step\n",
    "        temperatures[i] = temperatures[i - 1] - r * (temperatures[i - 1] - T_env) * dt\n",
    "    \n",
    "    return times, temperatures\n",
    "\n",
    "# Set initial conditions\n",
    "T_init = 90  # Initial coffee temperature (°C)\n",
    "T_env = 0   # Ambient temperature (°C)\n",
    "r = 0.03     # Cooling rate (3% per minute)\n",
    "dt = 1       # Time step (1 minute)\n",
    "t_end = 22   # Total time (30 minutes)\n",
    "\n",
    "# Simulate the cooling process\n",
    "times, temperatures = cooling_model(T_init, T_env, r, dt, t_end)\n",
    "\n",
    "# Plot the temperature over time\n",
    "plt.plot(times, temperatures, label=\"Coffee Temperature\")\n",
    "plt.axhline(T_env, color='r', linestyle='--', label=\"Ambient Temperature\")\n",
    "plt.xlabel(\"Time (minutes)\")\n",
    "plt.ylabel(\"Temperature (°C)\")\n",
    "plt.title(\"Cooling of Coffee Over Time\")\n",
    "plt.legend()\n",
    "plt.show()"
   ]
  },
  {
   "cell_type": "markdown",
   "id": "791d3945-339a-45ed-8fa2-0eeb6bf25f9e",
   "metadata": {},
   "source": [
    "### 🧩 Comparing Simulation Results with the Exact Formula\n",
    "\n",
    "Now that you've simulated the cooling process using a time-stepping approach, let's compare it to the **exact solution** provided by the exponential decay formula derived from Newton's Law of Cooling.\n",
    "\n",
    "The exact formula for the temperature at any time $t$ is:\n",
    "\n",
    "$$\n",
    "T(t) = T_{\\text{env}} + (T_0 - T_{\\text{env}}) e^{-r t}\n",
    "$$\n",
    "\n",
    "Where:\n",
    "- $T_0$ is the initial temperature of the coffee (90°C),\n",
    "- $T_{\\text{env}}$ is the ambient temperature (22°C),\n",
    "- $r$ is the cooling rate (3% per minute),\n",
    "- $t$ is the time in minutes.\n",
    "\n",
    "#### 📝 Task: \n",
    "\n",
    "1. Use this exact formula to calculate the temperature at each time step.\n",
    "2. Plot both the simulation results (from the numerical method) and the exact results on the same graph.\n",
    "3. Compare the two curves:\n",
    "   - Are the results similar?\n",
    "   - How does the accuracy of the simulation change as time increases?\n",
    "   - What factors in the simulation might account for any discrepancies?\n",
    "\n",
    "**💡 Questions to Consider:**\n",
    "- How does the time step size ($\\Delta t$) affect the accuracy of the simulation compared to the exact formula?\n",
    "- Could improving the resolution of the time steps ($\\Delta t$) lead to more accurate results? Try reducing $\\Delta t$ and see how the simulation changes.\n"
   ]
  },
  {
   "cell_type": "code",
   "execution_count": 30,
   "id": "5c2c9f90-2e50-4c9b-a4be-c96be9d66601",
   "metadata": {},
   "outputs": [
    {
     "data": {
      "image/png": "[encoded data removed]",
      "text/plain": [
       "<Figure size 640x480 with 1 Axes>"
      ]
     },
     "metadata": {},
     "output_type": "display_data"
    }
   ],
   "source": [
    "# Exact formula for cooling (based on Newton's Law of Cooling)\n",
    "def exact_solution(T_init, T_env, r, times):\n",
    "    return T_env + (T_init - T_env) * np.exp(-r * times)\n",
    "\n",
    "# Calculate exact temperatures using the exponential formula\n",
    "exact_temperatures = exact_solution(T_init, T_env, r, times)\n",
    "\n",
    "# Plot the simulation results and exact solution\n",
    "plt.plot(times, temperatures, label=\"Simulated Temperature\", linestyle='--')\n",
    "plt.plot(times, exact_temperatures, label=\"Exact Temperature\", linestyle='-')\n",
    "plt.axhline(T_env, color='r', linestyle='--', label=\"Ambient Temperature\")\n",
    "plt.xlabel(\"Time (minutes)\")\n",
    "plt.ylabel(\"Temperature (°C)\")\n",
    "plt.title(\"Cooling of Coffee: Simulation vs Exact Formula\")\n",
    "plt.legend()\n",
    "plt.show()\n"
   ]
  },
  {
   "cell_type": "markdown",
   "id": "cdb522bd-b0ae-4b0f-a75c-505a14efa504",
   "metadata": {},
   "source": [
    "### 🧩 Investigating the Effect of Smaller Time Steps\n",
    "\n",
    "In the previous steps, we used a time step size $\\Delta t = 1$ minute for the simulation. Now, let's explore how changing $\\Delta t$ to a smaller value (such as 0.1 minutes) impacts the accuracy of the simulation compared to the exact formula.\n",
    "\n",
    "#### 📝 Task:\n",
    "\n",
    "1. Modify the value of $\\Delta t$ in the simulation to a smaller value, such as 0.1.\n",
    "2. Run the simulation again and plot the results alongside the exact formula.\n",
    "3. Compare the new simulation results to both the exact formula and the original simulation (with $\\Delta t = 1$ minute).\n",
    "\n",
    "**💡 Questions to Consider:**\n",
    "\n",
    "- How does reducing the time step $\\Delta t$ affect the accuracy of the simulation?\n",
    "- Do the simulated temperatures get closer to the exact solution as $\\Delta t$ becomes smaller?\n",
    "- How does the smaller $\\Delta t$ impact the smoothness of the curve in the simulation?\n",
    "\n",
    "By reducing $\\Delta t$, you are essentially increasing the resolution of the simulation, which should make the results more accurate. However, this also increases the number of calculations the program needs to perform. Is there a trade-off b\n",
    "etween accuracy and computational effort?\n"
   ]
  },
  {
   "cell_type": "markdown",
   "id": "4ba70278-2509-4fae-85d2-055e2de3b614",
   "metadata": {},
   "source": [
    "# PhyPy\n",
    "\n",
    "**PhyPy** is an educational repository designed to teach Python programming alongside Physics concepts using Jupyter Notebooks. The repository is ideal for students and educators looking for a hands-on, integrative learning experience.\n",
    "\n",
    "## 📘 Overview\n",
    "\n",
    "The notebooks in this repository guide users through physics concepts such as thermodynamics, mechanics, and electromagnetism, while simultaneously teaching Python for simulations and problem-solving. The repository is perfect for beginners in both Python and Physics, as it breaks down complex concepts into manageable exercises.\n",
    "\n",
    "## 🚀 Getting Started\n",
    "\n",
    "### Prerequisites\n",
    "\n",
    "To use this repository, you'll need:\n",
    "\n",
    "- Python 3.x\n",
    "- Jupyter Notebook\n",
    "- Required Python libraries: `numpy`, `matplotlib`\n",
    "\n",
    "### Installation\n",
    "\n",
    "1. Clone this repository:\n",
    "   ```bash\n",
    "   git clone https://github.com/rasnarim/PhyPy.git\n",
    "   cd PhyPy\n"
   ]
  },
  {
   "cell_type": "markdown",
   "id": "6454d4b8-30fd-4450-b0da-a349537c00d7",
   "metadata": {},
   "source": []
  },
  {
   "cell_type": "code",
   "execution_count": null,
   "id": "811acb74-164c-4d04-b0de-41e54c0bef6e",
   "metadata": {},
   "outputs": [],
   "source": []
  }
 ],
 "metadata": {
  "kernelspec": {
   "display_name": "Python 3 (ipykernel)",
   "language": "python",
   "name": "python3"
  },
  "language_info": {
   "codemirror_mode": {
    "name": "ipython",
    "version": 3
   },
   "file_extension": ".py",
   "mimetype": "text/x-python",
   "name": "python",
   "nbconvert_exporter": "python",
   "pygments_lexer": "ipython3",
   "version": "3.12.3"
  }
 },
 "nbformat": 4,
 "nbformat_minor": 5
}
