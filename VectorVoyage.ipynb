{
 "cells": [
  {
   "cell_type": "markdown",
   "id": "40c4a205-9783-4099-bb54-eb04746ab933",
   "metadata": {},
   "source": [
    "# **Navigating the Seas of Vectors**\n",
    "## Introduction to Vectors and Vector Displacement\n",
    "\n",
    "Welcome aboard, young explorers! 🌊 Today, we embark on a mathematical voyage to understand the powerful concept of vectors. As we journey across the seas, you'll discover how vectors are the compass that guides us from one point to another. Whether you are navigating the open waters, launching rockets into space, or even planning your daily commute, vectors are the hidden currents that chart your course!\n",
    "\n",
    "### What is a Vector? 🧭\n",
    "\n",
    "A vector is more than just a number. It is a **quantity** that has both **magnitude** and **direction**. Imagine you are on a ship, sailing through the vast ocean. The speed at which your ship travels is the magnitude, while the direction (north, south, east, or west) is the vector's direction. Together, these elements tell you exactly where you're heading and how fast you're getting there.\n",
    "\n",
    "### Example: Setting Sail from the Harbor 🚢\n",
    "\n",
    "Imagine you are in a harbor, ready to set sail. You start at point **A** and want to reach a distant island at point **B**. The distance between A and B represents the magnitude of your journey, while the path you take represents the direction. This path is your **displacement vector**.\n",
    "\n",
    "If the island is 50 km northeast of your current position, your displacement vector has:\n",
    "- A **magnitude** of 50 km\n",
    "- A **direction** towards the northeast.\n",
    "\n",
    "### Components of a Vector 🧮\n",
    "\n",
    "Vectors can be broken down into components along the x-axis (east-west direction) and y-axis (north-south direction). This is similar to giving coordinates on a map. For example, if you sail 30 km east and 40 km north, your displacement vector can be represented as:\n",
    "\n",
    "$\n",
    "\\mathbf{\\vec{v}} = \\begin{pmatrix} 30 \\\\ 40 \\end{pmatrix} \\text{ km}\n",
    "$\n",
    "\n",
    "These are the **components** of the vector.\n",
    "\n",
    "### Exercise: Navigating the Open Seas 🌍\n",
    "\n",
    "Now it's your turn to navigate! Suppose you sail 60 km west and 10 km south. What would your displacement vector look like?\n",
    "\n",
    "- **Hint:** Remember that west corresponds to the negative x-direction and south corresponds to the negative y-direction.\n",
    "\n",
    "Think about it and write your answer below:\n",
    "\n",
    "$\n",
    "\\mathbf{\\vec{v}} = \\begin{pmatrix} \\text{...} \\\\ \\text{...} \\end{pmatrix} \\text{ km}\n",
    "$\n",
    "\n",
    "---\n",
    "\n",
    "### Adding and Subtracting Vectors ➕➖\n",
    "\n",
    "When navigating multiple legs of a journey, you may need to add or subtract vectors to determine your final position. For example, if you first sail 20 km east, then 30 km north, and finally 10 km west, your total displacement can be found by adding these vectors.\n",
    "\n",
    "---\n",
    "\n"
   ]
  },
  {
   "cell_type": "markdown",
   "id": "0af7e694-6599-43c1-8162-41ccf89e62b3",
   "metadata": {},
   "source": [
    "### Implementing Vectors with `numpy` 🧑‍💻\n",
    "\n",
    "To navigate the seas of vectors efficiently, we'll use a powerful tool called `numpy`. This Python library allows us to work with vectors and perform calculations like vector addition and magnitude with ease.\n",
    "\n",
    "First, make sure you've got `numpy` installed. You can install it by running the following command in your Jupyter notebook:\n",
    "\n",
    "```\n",
    "!pip install numpy\n",
    "```\n",
    "### Example 1: Representing a Vector 🧭\n",
    "Imagine you’ve set sail from the harbor and traveled 30 km east and 40 km north. We can represent this journey as a vector in Python using numpy like this:"
   ]
  },
  {
   "cell_type": "code",
   "execution_count": 2,
   "id": "55c77349-9652-4e17-92a6-46822ae3fb97",
   "metadata": {},
   "outputs": [
    {
     "name": "stdout",
     "output_type": "stream",
     "text": [
      "Vector A: [30 40]\n"
     ]
    }
   ],
   "source": [
    "import numpy as np\n",
    "\n",
    "# Create a vector representing 30 km east and 40 km north\n",
    "vector_A = np.array([30, 40])\n",
    "\n",
    "print(\"Vector A:\", vector_A)\n"
   ]
  },
  {
   "cell_type": "markdown",
   "id": "47421660-230e-477d-abff-290d1e5dc416",
   "metadata": {},
   "source": [
    "This vector, 'vector_A', represents your displacement in both the x (east-west) and y (north-south) directions.\n",
    "### Exercise: \n",
    "Can you calcualte the "
   ]
  },
  {
   "cell_type": "code",
   "execution_count": null,
   "id": "ea7374b1-80d8-473c-bc7c-62beec8ccac4",
   "metadata": {},
   "outputs": [],
   "source": []
  }
 ],
 "metadata": {
  "kernelspec": {
   "display_name": "Python 3 (ipykernel)",
   "language": "python",
   "name": "python3"
  },
  "language_info": {
   "codemirror_mode": {
    "name": "ipython",
    "version": 3
   },
   "file_extension": ".py",
   "mimetype": "text/x-python",
   "name": "python",
   "nbconvert_exporter": "python",
   "pygments_lexer": "ipython3",
   "version": "3.12.4"
  }
 },
 "nbformat": 4,
 "nbformat_minor": 5
}
