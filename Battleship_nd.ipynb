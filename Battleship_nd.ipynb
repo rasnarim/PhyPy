{
 "cells": [
  {
   "cell_type": "code",
   "execution_count": 1,
   "id": "556fd655-5337-42f5-942a-83b030ab3662",
   "metadata": {},
   "outputs": [
    {
     "name": "stdout",
     "output_type": "stream",
     "text": [
      "Starting position: [1, 2, 2]\n"
     ]
    },
    {
     "name": "stdin",
     "output_type": "stream",
     "text": [
      "Enter the coordinates you want to hit in 3D (space-separated):  1 1 1\n"
     ]
    },
    {
     "name": "stdout",
     "output_type": "stream",
     "text": [
      "Miss!\n",
      "Your current position after the move: [1, 1, 1]\n",
      "Hint: Move by displacement vector: [ 0 -1 -1]\n"
     ]
    },
    {
     "name": "stdin",
     "output_type": "stream",
     "text": [
      "Enter the coordinates you want to hit in 3D (space-separated):  1 0 0 \n"
     ]
    },
    {
     "name": "stdout",
     "output_type": "stream",
     "text": [
      "Hit!\n",
      "Your current position after the move: [1, 0, 0]\n",
      "Hint: Move by displacement vector: [2 0 0]\n"
     ]
    },
    {
     "name": "stdin",
     "output_type": "stream",
     "text": [
      "Enter the coordinates you want to hit in 3D (space-separated):  3 0 0 \n"
     ]
    },
    {
     "name": "stdout",
     "output_type": "stream",
     "text": [
      "Hit!\n",
      "Your current position after the move: [3, 0, 0]\n",
      "Hint: Move by displacement vector: [-3  3  3]\n"
     ]
    },
    {
     "name": "stdin",
     "output_type": "stream",
     "text": [
      "Enter the coordinates you want to hit in 3D (space-separated):  0 3 3 \n"
     ]
    },
    {
     "name": "stdout",
     "output_type": "stream",
     "text": [
      "Hit!\n",
      "Your current position after the move: [0, 3, 3]\n",
      "Congratulations! You've destroyed all the ships and won the game!\n"
     ]
    }
   ],
   "source": [
    "# Imports and Setup\n",
    "import numpy as np\n",
    "\n",
    "# Initialize the grid (sea) in n-dimensions\n",
    "def initialize_sea(grid_size, dimensions):\n",
    "    return np.zeros(tuple([grid_size] * dimensions), dtype=int)\n",
    "\n",
    "# Function to randomly place ships on the grid\n",
    "def place_ships(sea, num_ships):\n",
    "    placed_ships = 0\n",
    "    while placed_ships < num_ships:\n",
    "        position = tuple(np.random.randint(0, sea.shape[0], size=len(sea.shape)))\n",
    "        if sea[position] == 0:  # Check if the cell is empty\n",
    "            sea[position] = 1  # Place a ship\n",
    "            placed_ships += 1\n",
    "\n",
    "# Display the grid (simplified for higher dimensions)\n",
    "def display_grid(sea):\n",
    "    print(sea)\n",
    "\n",
    "# Check if a move is a hit or miss\n",
    "def check_hit(sea, position):\n",
    "    # Check if the position in the sea array has a ship (denoted by 1)\n",
    "    if sea[position] == 1:\n",
    "        sea[position] = 2  # Mark the position as a hit (denoted by 2)\n",
    "        return True  # Return True indicating a successful hit\n",
    "    elif sea[position] == 0:\n",
    "        sea[position] = -1  # Mark the position as a miss (denoted by -1)\n",
    "        return False  # Return False indicating a miss\n",
    "    else:\n",
    "        return None  # Return None indicating the position was already targeted (either hit or miss)\n",
    "\n",
    "\n",
    "# Calculate displacement vector to the closest ship\n",
    "def calculate_displacement_vector(current_position, closest_ship_position):\n",
    "    # Convert both the current position and the closest ship position to numpy arrays\n",
    "    # This allows for element-wise subtraction between the two positions\n",
    "    displacement = np.array(closest_ship_position) - np.array(current_position)\n",
    "    \n",
    "    # Return the resulting displacement vector\n",
    "    return displacement\n",
    "\n",
    "\n",
    "# Find the closest ship\n",
    "def find_closest_ship(sea, current_position):\n",
    "    # Find all positions in the sea where there are ships (denoted by 1)\n",
    "    ship_positions = np.argwhere(sea == 1)\n",
    "    \n",
    "    # Calculate the Euclidean distance from the current position to each ship position\n",
    "    # The norm function computes the distance along the specified axis (in this case, axis=1 for rows)\n",
    "    distances = np.linalg.norm(ship_positions - current_position, axis=1)\n",
    "    \n",
    "    # Find the index of the closest ship by identifying the minimum distance\n",
    "    closest_ship_index = np.argmin(distances)\n",
    "    \n",
    "    # Return the position of the closest ship\n",
    "    return ship_positions[closest_ship_index]\n",
    "\n",
    "\n",
    "# Function to play the game\n",
    "def play_game(sea, dimensions):\n",
    "    # Randomly select a starting position for the player within the grid's bounds\n",
    "    current_position = np.random.randint(0, sea.shape[0], size=dimensions).tolist()\n",
    "    print(f\"Starting position: {current_position}\")\n",
    "\n",
    "    # Continue the game loop until all ships are hit\n",
    "    while np.sum(sea == 1) > 0:\n",
    "        # Optionally display the grid to the player (can be uncommented if needed)\n",
    "        # display_grid(sea)\n",
    "\n",
    "        # Inner loop to ensure valid user input\n",
    "        while True:\n",
    "            # Prompt the user to enter coordinates for their next move\n",
    "            move = input(f\"Enter the coordinates you want to hit in {dimensions}D (space-separated): \")\n",
    "            current_position = list(map(int, move.split()))\n",
    "            \n",
    "            # Check if the user entered the correct number of coordinates\n",
    "            if len(current_position) != dimensions:\n",
    "                print(f\"You're not paying attention to the dimension of the space! \"\n",
    "                      f\"Please enter exactly {dimensions} coordinates.\")\n",
    "                continue  # Prompt the user again if the input is incorrect\n",
    "            \n",
    "            # Validate that each coordinate is within the valid range for its dimension\n",
    "            if all(0 <= current_position[i] < sea.shape[i] for i in range(dimensions)):\n",
    "                break  # Valid input; exit the input loop\n",
    "            else:\n",
    "                # Notify the user if any coordinate is out of range\n",
    "                print(\"Coordinates out of range. Please try again.\")\n",
    "        \n",
    "        # Convert the current position to a tuple for indexing into the sea array\n",
    "        position_tuple = tuple(current_position)\n",
    "        \n",
    "        # Check if the move is a hit or miss and update the sea array\n",
    "        hit = check_hit(sea, position_tuple)\n",
    "        if hit:\n",
    "            print(\"Hit!\")  # Notify the user of a successful hit\n",
    "        else:\n",
    "            print(\"Miss!\")  # Notify the user of a miss\n",
    "\n",
    "        # Print the current position after the move, regardless of hit or miss\n",
    "        print(f\"Your current position after the move: {current_position}\")\n",
    "\n",
    "        # If there are still ships left, find the closest one and provide a hint\n",
    "        if np.sum(sea == 1) > 0:\n",
    "            # Find the closest remaining ship\n",
    "            closest_ship_position = find_closest_ship(sea, current_position)\n",
    "            \n",
    "            # Calculate the displacement vector towards the closest ship\n",
    "            displacement_vector = calculate_displacement_vector(current_position, closest_ship_position)\n",
    "            \n",
    "            # Provide the player with a hint on how to move closer to the nearest ship\n",
    "            print(f\"Hint: Move by displacement vector: {displacement_vector}\")\n",
    "    # Once all ships are hit, congratulate the user\n",
    "    print(\"Congratulations! You've destroyed all the ships and won the game!\")\n",
    "\n",
    "# Game parameters\n",
    "dimensions = 3  # The number of dimensions for the game grid (e.g., 2 for 2D, 3 for 3D, 4 for 4D)\n",
    "grid_size = 5   # The size of the grid along each dimension (e.g., a 5x5x5x5 grid in 4D)\n",
    "num_ships = 3   # The number of ships to be placed on the grid\n",
    "\n",
    "# Initialize and start the game\n",
    "sea = initialize_sea(grid_size, dimensions)  # Create the game grid (sea) with the specified size and dimensions\n",
    "place_ships(sea, num_ships)  # Randomly place the specified number of ships on the grid\n",
    "play_game(sea, dimensions)  # Start the game, allowing the player to make moves and hit the ships\n",
    "\n"
   ]
  },
  {
   "cell_type": "code",
   "execution_count": null,
   "id": "05a41fad-c499-4a15-bc57-3d5915a8e0fd",
   "metadata": {},
   "outputs": [],
   "source": [
    "\n",
    "\n"
   ]
  }
 ],
 "metadata": {
  "kernelspec": {
   "display_name": "Python 3 (ipykernel)",
   "language": "python",
   "name": "python3"
  },
  "language_info": {
   "codemirror_mode": {
    "name": "ipython",
    "version": 3
   },
   "file_extension": ".py",
   "mimetype": "text/x-python",
   "name": "python",
   "nbconvert_exporter": "python",
   "pygments_lexer": "ipython3",
   "version": "3.12.3"
  }
 },
 "nbformat": 4,
 "nbformat_minor": 5
}
