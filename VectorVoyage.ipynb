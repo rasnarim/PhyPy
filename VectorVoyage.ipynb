{
 "cells": [
  {
   "cell_type": "markdown",
   "id": "40c4a205-9783-4099-bb54-eb04746ab933",
   "metadata": {},
   "source": [
    "# **Navigating the Seas of Vectors**\n",
    "## Introduction to Vectors and Vector Displacement\n",
    "\n",
    "Welcome aboard, young explorers! 🌊 Today, we embark on a mathematical voyage to understand the powerful concept of vectors. As we journey across the seas, you'll discover how vectors are the compass that guides us from one point to another. Whether you are navigating the open waters, launching rockets into space, or even planning your daily commute, vectors are the hidden currents that chart your course!\n",
    "\n",
    "### What is a Vector? 🧭\n",
    "\n",
    "A vector is more than just a number. It is a **quantity** that has both **magnitude** and **direction**. Imagine you are on a ship, sailing through the vast ocean. The speed at which your ship travels is the magnitude, while the direction (north, south, east, or west) is the vector's direction. Together, these elements tell you exactly where you're heading and how fast you're getting there.\n",
    "\n",
    "### Example: Setting Sail from the Harbor 🚢\n",
    "\n",
    "Imagine you are in a harbor, ready to set sail. You start at point **A** and want to reach a distant island at point **B**. The distance between A and B represents the magnitude of your journey, while the path you take represents the direction. This path is your **displacement vector**.\n",
    "\n",
    "If the island is 50 km northeast of your current position, your displacement vector has:\n",
    "- A **magnitude** of 50 km\n",
    "- A **direction** towards the northeast.\n",
    "\n",
    "### Components of a Vector 🧮\n",
    "\n",
    "Vectors can be broken down into components along the x-axis (east-west direction) and y-axis (north-south direction). This is similar to giving coordinates on a map. For example, if you sail 30 km east and 40 km north, your displacement vector can be represented as:\n",
    "\n",
    "$\n",
    "\\mathbf{\\vec{v}} = \\begin{pmatrix} 30 \\\\ 40 \\end{pmatrix} \\text{ km}\n",
    "$\n",
    "\n",
    "These are the **components** of the vector.\n",
    "\n",
    "### Exercise: Navigating the Open Seas 🌍\n",
    "\n",
    "Now it's your turn to navigate! Suppose you sail 60 km west and 10 km south. What would your displacement vector look like?\n",
    "\n",
    "- **Hint:** Remember that west corresponds to the negative x-direction and south corresponds to the negative y-direction.\n",
    "\n",
    "Think about it and write your answer below:\n",
    "\n",
    "$\n",
    "\\mathbf{\\vec{v}} = \\begin{pmatrix} \\text{...} \\\\ \\text{...} \\end{pmatrix} \\text{ km}\n",
    "$\n",
    "\n",
    "---\n",
    "\n",
    "### Adding and Subtracting Vectors ➕➖\n",
    "\n",
    "When navigating multiple legs of a journey, you may need to add or subtract vectors to determine your final position. For example, if you first sail 20 km east, then 30 km north, and finally 10 km west, your total displacement can be found by adding these vectors.\n",
    "\n",
    "---\n",
    "\n"
   ]
  },
  {
   "cell_type": "markdown",
   "id": "0af7e694-6599-43c1-8162-41ccf89e62b3",
   "metadata": {},
   "source": [
    "### Implementing Vectors with `numpy` 🧑‍💻\n",
    "\n",
    "To navigate the seas of vectors efficiently, we'll use a powerful tool called `numpy`. This Python library allows us to work with vectors and perform calculations like vector addition and magnitude with ease.\n",
    "\n",
    "First, make sure you've got `numpy` installed. You can install it by running the following command in your Jupyter notebook:\n",
    "\n",
    "```\n",
    "!pip install numpy\n",
    "```\n",
    "### Example 1: Representing a Vector 🧭\n",
    "Imagine you’ve set sail from the harbor and traveled 30 km east and 40 km north. We can represent this journey as a vector in Python using numpy like this:"
   ]
  },
  {
   "cell_type": "code",
   "execution_count": 2,
   "id": "55c77349-9652-4e17-92a6-46822ae3fb97",
   "metadata": {},
   "outputs": [
    {
     "name": "stdout",
     "output_type": "stream",
     "text": [
      "Vector A: [30 40]\n"
     ]
    }
   ],
   "source": [
    "import numpy as np\n",
    "\n",
    "# Create a vector representing 30 km east and 40 km north\n",
    "vector_A = np.array([30, 40])\n",
    "\n",
    "print(\"Vector A:\", vector_A)\n"
   ]
  },
  {
   "cell_type": "markdown",
   "id": "47421660-230e-477d-abff-290d1e5dc416",
   "metadata": {},
   "source": [
    "### Exercise: Calculating the Distance Traveled 🌍\n",
    "\n",
    "Now that you've created `vector_A`, which represents your journey of **30 km east** and **40 km north**, let's calculate the **distance traveled**.\n",
    "\n",
    "Remember, the **distance traveled** is the same as the **magnitude** of the displacement vector, `vector_A`.\n",
    "\n",
    "#### Steps to Follow:\n",
    "\n",
    "1. **Recall the Vector**: `vector_A` is given as `[30, 40]`, where 30 km is the distance traveled east (along the x-axis), and 40 km is the distance traveled north (along the y-axis).\n",
    "\n",
    "2. **Visualize the Journey**: Imagine this journey as forming a right triangle on a grid:\n",
    "   - The horizontal leg represents 30 km east.\n",
    "   - The vertical leg represents 40 km north.\n",
    "   - The hypotenuse of this triangle is the straight-line distance from your starting point to your final position, which is the magnitude of the vector.\n",
    "\n",
    "   **Tip:** Draw this triangle on a piece of paper to visualize how the journey and the distance traveled relate to each other.\n",
    "\n",
    "3. **Calculate the Magnitude Using the Pythagorean Theorem**:\n",
    "   The Pythagorean theorem tells us that for any right triangle, the square of the hypotenuse (the side opposite the right angle) is equal to the sum of the squares of the other two sides. For your vector:\n",
    "\n",
    "$\n",
    "   \\text{Magnitude} = \\sqrt{x^2 + y^2}\n",
    "$\n",
    "   \n",
    "<br>\n",
    "<br>\n",
    "<br>\n",
    "<br>\n",
    "<br>\n",
    "<br>"
   ]
  },
  {
   "cell_type": "markdown",
   "id": "8730c871-1aec-44a6-9cc8-89cdca15ebb8",
   "metadata": {},
   "source": [
    "### Exercise: Calculating the Magnitude of Vector A Using Online Resources 🌐\n",
    "\n",
    "So far, we've learned that the **distance traveled** is the same as the **magnitude** of the displacement vector, `vector_A`. You’ve also seen how to calculate this using the Pythagorean theorem:\n",
    "\n",
    "$\n",
    "\\text{Magnitude} = \\sqrt{x^2 + y^2}\n",
    "$\n",
    "\n",
    "Now, let’s take it a step further and use Python to calculate this magnitude. But instead of directly providing the code, we challenge you to use online resources to find the solution.\n",
    "\n",
    "#### Task:\n",
    "\n",
    "1. **Search Online**: Use search engines, Python documentation, or educational platforms to learn how to calculate the magnitude of a vector in Python.\n",
    "   - Keywords you might search for include: \"Python vector magnitude\", \"calculate magnitude numpy\", or \"Python Pythagorean theorem\".\n",
    "   \n",
    "2. **Use Python**: Based on what you find, write a Python snippet to calculate the magnitude of `vector_A`:\n",
    "\n",
    "```python\n",
    "# Given vector_A\n",
    "vector_A = np.array([30, 40])\n",
    "\n",
    "# Your code here to calculate the magnitude using what you've learned\n",
    "magnitude_A = # (use your findings here)\n",
    "\n",
    "print(\"Magnitude of Vector A:\", magnitude_A)\n"
   ]
  },
  {
   "cell_type": "code",
   "execution_count": 3,
   "id": "f52618a9-1370-4e24-a889-11e54bf780a7",
   "metadata": {},
   "outputs": [],
   "source": [
    "# your code goes here"
   ]
  },
  {
   "cell_type": "markdown",
   "id": "29c2f7f1-f956-4e5e-a75d-c9e624386ddb",
   "metadata": {},
   "source": []
  },
  {
   "cell_type": "code",
   "execution_count": null,
   "id": "64165324-a2cc-407d-97ed-7ff941710609",
   "metadata": {},
   "outputs": [],
   "source": []
  }
 ],
 "metadata": {
  "kernelspec": {
   "display_name": "Python 3 (ipykernel)",
   "language": "python",
   "name": "python3"
  },
  "language_info": {
   "codemirror_mode": {
    "name": "ipython",
    "version": 3
   },
   "file_extension": ".py",
   "mimetype": "text/x-python",
   "name": "python",
   "nbconvert_exporter": "python",
   "pygments_lexer": "ipython3",
   "version": "3.12.4"
  }
 },
 "nbformat": 4,
 "nbformat_minor": 5
}
