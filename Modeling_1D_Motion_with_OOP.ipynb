{
 "cells": [
  {
   "cell_type": "markdown",
   "id": "2d529c10-d788-4538-af49-c391b55c3a53",
   "metadata": {},
   "source": [
    "# Modeling 1D Motion with OOP: From Rest to Acceleration\n",
    "\n",
    "In this lesson, we will explore how to model a car's motion using simple concepts from physics. We'll represent the car's state using Python and gradually introduce important ideas like position, velocity, and acceleration.\n",
    "\n",
    "We'll go through three scenarios:\n",
    "1. **The car at rest** – The car is initially stationary.\n",
    "2. **The car moving at constant speed** – The car moves at a steady pace along a highway.\n",
    "3. **The car accelerating** – The car speeds up when the driver presses the gas pedal.\n",
    "\n",
    "By the end of this lesson, you'll have a clear understanding of how position, velocity, and acceleration relate to each other.\n",
    "\n",
    "## Part 1: The Car at Rest\n",
    "\n",
    "Imagine the car is parked at a red light. The car has a certain mass, and it’s sitting at a specific position along the road. Right now, nothing is moving—it’s just waiting for the light to turn green.\n",
    "\n",
    "### Key Properties of the Car at Rest\n",
    "\n",
    "1. **Mass**: The car's mass is constant and doesn’t change.\n",
    "2. **Position**: Where the car is located on the road.\n",
    "3. **Velocity**: How fast the car is moving (currently 0 since the car is not moving).\n",
    "4. **Acceleration**: How quickly the car’s speed is changing (currently 0 because the car is not speeding up or slowing down).\n",
    "\n",
    "Let’s represent this in Python.\n"
   ]
  },
  {
   "cell_type": "code",
   "execution_count": 32,
   "id": "16223cc5-420f-4363-a83b-31bd545fffa5",
   "metadata": {},
   "outputs": [
    {
     "name": "stdout",
     "output_type": "stream",
     "text": [
      "{'mass': 1200, 'position': 0, 'velocity': 0, 'acceleration': 0}\n",
      "Car's position is: 0\n",
      "Car's speed is: 0\n",
      "Car's acceleration is: 0\n"
     ]
    }
   ],
   "source": [
    "# Step 1: Define a simple Car class\n",
    "# This class represents a car with mass, position, velocity, and acceleration.\n",
    "\n",
    "class Car:\n",
    "    def __init__(self, mass, position=0, velocity=0, acceleration=0):\n",
    "        \"\"\"\n",
    "        Initialize the car with mass, position, velocity, and acceleration.\n",
    "        \n",
    "        Parameters:\n",
    "        mass (float): The mass of the car in kilograms.\n",
    "        position (float): The initial position of the car in meters. Default is 0.\n",
    "        velocity (float): The initial velocity of the car in meters per second. Default is 0.\n",
    "        acceleration (float): The initial acceleration of the car in meters per second squared. Default is 0.\n",
    "        \"\"\"\n",
    "        self.mass = mass  # Mass of the car (in kg)\n",
    "        self.position = position  # Initial position (in meters)\n",
    "        self.velocity = velocity  # Initial velocity (in meters/second)\n",
    "        self.acceleration = acceleration  # Initial acceleration (in meters/second^2)\n",
    "\n",
    "    def get_state(self):\n",
    "        \"\"\"\n",
    "        Return the current state of the car as a dictionary.\n",
    "        \"\"\"\n",
    "        return {\n",
    "            'mass': self.mass,\n",
    "            'position': self.position,\n",
    "            'velocity': self.velocity,\n",
    "            'acceleration': self.acceleration\n",
    "        }\n",
    "\n",
    "# Example: Create a car with a mass of 1200 kg, at rest at position 0\n",
    "car = Car(mass=1200)\n",
    "\n",
    "# Let's check the initial state of the car\n",
    "print(car.get_state())\n",
    "\n",
    "# it is also possible to access different properties of the car:\n",
    "print(\"Car's position is:\", car.position)\n",
    "print(\"Car's speed is:\", car.velocity)\n",
    "print(\"Car's acceleration is:\", car.acceleration)"
   ]
  },
  {
   "cell_type": "markdown",
   "id": "5e7c648d-417e-4434-b5b6-5013f1c3feed",
   "metadata": {},
   "source": [
    "### The Car at Rest\n",
    "\n",
    "When we run this code, the car is initialized with a mass of 1200 kg, and it’s sitting at position 0 meters on the road. Right now, it’s not moving, so both its velocity and acceleration are zero.\n",
    "\n",
    "#### What We've Learned So Far:\n",
    "- The **position** is where the car is located along the road.\n",
    "- The **velocity** is how fast the car is moving (currently 0 because the car is not moving).\n",
    "- The **acceleration** is how quickly the car’s speed is changing (currently 0 because the car is not speeding up or slowing down).\n",
    "\n",
    "Now, let's explore what happens when the car starts moving.\n"
   ]
  },
  {
   "cell_type": "markdown",
   "id": "2da16031-9c44-43cd-bf6d-a65e7b1064da",
   "metadata": {},
   "source": [
    "## The Car Moves at Constant Speed\n",
    "\n",
    "Now, imagine the traffic light turns green, and the car starts moving onto the highway. After some time, the car reaches a constant speed and continues cruising down the highway.\n",
    "\n",
    "When an object moves with **constant velocity**, its position changes linearly with time. For example, if the car is moving at 10 meters per second (which is about 36 km/h), after 1 second, it will have traveled 10 meters. After 2 seconds, it will have traveled 20 meters, and so on.\n",
    "\n",
    "### The Connection Between Velocity and Position\n",
    "\n",
    "To simulate this scenario, we’ll give the car a constant velocity and see how its position changes over time.\n"
   ]
  },
  {
   "cell_type": "code",
   "execution_count": 33,
   "id": "5c6e7213-761e-41ca-b3fe-f27b26ed1567",
   "metadata": {},
   "outputs": [
    {
     "name": "stdout",
     "output_type": "stream",
     "text": [
      "{'mass': 1200, 'position': 50, 'velocity': 10}\n"
     ]
    }
   ],
   "source": [
    "# Step 2: Simulating the car moving at a constant speed\n",
    "\n",
    "class Car:\n",
    "    def __init__(self, mass, position=0, velocity=0):\n",
    "        \"\"\"\n",
    "        Initialize the car with mass, position, and velocity. No acceleration is needed for constant speed.\n",
    "        \n",
    "        Parameters:\n",
    "        mass (float): The mass of the car in kilograms.\n",
    "        position (float): The initial position of the car in meters. Default is 0.\n",
    "        velocity (float): The initial velocity of the car in meters per second. Default is 0.\n",
    "        \"\"\"\n",
    "        self.mass = mass\n",
    "        self.position = position\n",
    "        self.velocity = velocity\n",
    "    \n",
    "    def update_position(self, time_interval):\n",
    "        \"\"\"\n",
    "        Update the position of the car based on its constant velocity and the time that has passed.\n",
    "        \n",
    "        Parameters:\n",
    "        time_interval (float): The time interval over which the car moves (seconds).\n",
    "        \"\"\"\n",
    "        self.position += self.velocity * time_interval\n",
    "    \n",
    "    def get_state(self):\n",
    "        \"\"\"\n",
    "        Return the current state of the car as a dictionary.\n",
    "        \"\"\"\n",
    "        return {\n",
    "            'mass': self.mass,\n",
    "            'position': self.position,\n",
    "            'velocity': self.velocity\n",
    "        }\n",
    "\n",
    "# Example: Create a car with a mass of 1200 kg, moving with a constant velocity of 10 m/s\n",
    "cruising_car = Car(mass=1200, velocity=10)\n",
    "\n",
    "# Update the position after 5 seconds of driving at constant speed\n",
    "cruising_car.update_position(5)\n",
    "\n",
    "# Check the updated state of the car\n",
    "print(cruising_car.get_state())\n"
   ]
  },
  {
   "cell_type": "markdown",
   "id": "0e469a30-f67a-4689-92f8-eab461ad5c5b",
   "metadata": {},
   "source": [
    "### The Car at Constant Speed\n",
    "\n",
    "In this simulation, we gave the car a constant velocity of 10 meters per second (36 km/h). After 5 seconds of driving, the car's position is updated based on the time that has passed. Here’s how we calculate the new position:\n",
    "\n",
    "$$ \\text{position} = \\text{initial position} + \\text{velocity} \\times \\text{time} $$\n",
    "\n",
    "In this case:\n",
    "\n",
    "$$ \\text{position} = 0 + 10 \\times 5 = 50 \\, \\text{meters} $$\n",
    "\n",
    "So after 5 seconds of driving at a constant speed of 10 m/s, the car has traveled 50 meters.\n",
    "\n",
    "#### Key Takeaway:\n",
    "- When the car is moving at a constant velocity, its position changes linearly with time. The longer the car travels, the further it goes.\n"
   ]
  },
  {
   "cell_type": "markdown",
   "id": "221cd199-d842-4b12-aad0-ff989171e0ab",
   "metadata": {},
   "source": [
    "## The Car Speeds Up (Acceleration)\n",
    "\n",
    "Now let’s imagine the driver presses down on the gas pedal, causing the car to speed up. This introduces **acceleration**, which is the rate at which the car’s velocity changes over time.\n",
    "\n",
    "### The Connection Between Acceleration and Velocity\n",
    "\n",
    "Acceleration means the car’s speed is increasing every second. For example, if the car has an acceleration of 2 meters per second squared, after 1 second, the car will be moving 2 m/s faster. After 2 seconds, it will be moving 4 m/s faster, and so on.\n",
    "\n",
    "We’ll simulate this by giving the car an initial velocity and some acceleration, and then see how its velocity and position change over time.\n"
   ]
  },
  {
   "cell_type": "code",
   "execution_count": 36,
   "id": "caac3a15-9d0c-4608-b1e2-ce7ec7ef03e5",
   "metadata": {},
   "outputs": [
    {
     "name": "stdout",
     "output_type": "stream",
     "text": [
      "{'mass': 1200, 'position': 100, 'velocity': 20, 'acceleration': 2}\n"
     ]
    }
   ],
   "source": [
    "class Car:\n",
    "    def __init__(self, mass, position=0, velocity=0, acceleration=0):\n",
    "        \"\"\"\n",
    "        Initialize the car with mass, position, velocity, and acceleration.\n",
    "        \n",
    "        Parameters:\n",
    "        mass (float): The mass of the car in kilograms.\n",
    "        position (float): The initial position of the car in meters. Default is 0.\n",
    "        velocity (float): The initial velocity of the car in meters per second. Default is 0.\n",
    "        acceleration (float): The initial acceleration of the car in meters per second squared. Default is 0.\n",
    "        \"\"\"\n",
    "        self.mass = mass\n",
    "        self.position = position\n",
    "        self.velocity = velocity\n",
    "        self.acceleration = acceleration\n",
    "    \n",
    "    def update_motion(self, time_interval):\n",
    "        \"\"\"\n",
    "        Update both the velocity and position of the car based on acceleration and time.\n",
    "        \n",
    "        Parameters:\n",
    "        time_interval (float): The time interval over which the car moves (seconds).\n",
    "        \"\"\"\n",
    "        # Update velocity based on acceleration\n",
    "        self.velocity += self.acceleration * time_interval\n",
    "        \n",
    "        # Update position based on the new velocity\n",
    "        self.position += self.velocity * time_interval\n",
    "    \n",
    "    def get_state(self):\n",
    "        \"\"\"\n",
    "        Return the current state of the car as a dictionary.\n",
    "        \"\"\"\n",
    "        return {\n",
    "            'mass': self.mass,\n",
    "            'position': self.position,\n",
    "            'velocity': self.velocity,\n",
    "            'acceleration': self.acceleration\n",
    "        }\n",
    "\n",
    "# Example: Create a car with a mass of 1200 kg, moving with a constant velocity of 10 m/s\n",
    "cruising_car = Car(mass=1200, velocity=10, acceleration=2)\n",
    "\n",
    "# Since there's no acceleration, the car will maintain constant velocity\n",
    "cruising_car.update_motion(5)\n",
    "\n",
    "# Check the updated state of the car\n",
    "print(cruising_car.get_state())\n"
   ]
  },
  {
   "cell_type": "markdown",
   "id": "8614cc07-5407-4135-a922-616b32fe705a",
   "metadata": {},
   "source": [
    "### The Car Accelerates\n",
    "\n",
    "Now, we gave the car an initial velocity of 10 m/s and an acceleration of 2 m/s². After 5 seconds, its velocity and position are updated.\n",
    "\n",
    "1. First, the velocity changes:\n",
    "\n",
    "$$ v = u + at = 10 + 2 \\times 5 = 20 \\, \\text{m/s} $$\n",
    "\n",
    "2. Then, the position is updated based on the new velocity:\n",
    "\n",
    "$$ \\text{position} = \\text{initial position} + v \\times t = 0 + 20 \\times 5 = 100 \\, \\text{meters} $$\n",
    "\n",
    "#### Key Takeaways:\n",
    "- The car’s **velocity** changes over time based on its **acceleration**.\n",
    "- The **position** is then updated based on the new velocity.\n",
    "\n",
    "Acceleration allows the car to speed up, increasing both its velocity and the rate at which it covers distance.\n"
   ]
  }
 ],
 "metadata": {
  "kernelspec": {
   "display_name": "Python 3 (ipykernel)",
   "language": "python",
   "name": "python3"
  },
  "language_info": {
   "codemirror_mode": {
    "name": "ipython",
    "version": 3
   },
   "file_extension": ".py",
   "mimetype": "text/x-python",
   "name": "python",
   "nbconvert_exporter": "python",
   "pygments_lexer": "ipython3",
   "version": "3.12.3"
  }
 },
 "nbformat": 4,
 "nbformat_minor": 5
}
